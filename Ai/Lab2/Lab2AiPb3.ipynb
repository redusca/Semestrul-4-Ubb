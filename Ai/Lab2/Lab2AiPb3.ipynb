{
 "cells": [
  {
   "cell_type": "markdown",
   "source": [
    "# Se da un fisier care contine un text (format din mai multe propozitii) in limba romana - a se vedea fisierul ”data/texts.txt”. Se cere sa se determine si sa se vizualizeze:"
   ],
   "metadata": {
    "collapsed": false
   },
   "id": "9235611884023a24"
  },
  {
   "cell_type": "code",
   "execution_count": 41,
   "outputs": [
    {
     "name": "stderr",
     "output_type": "stream",
     "text": [
      "[nltk_data] Downloading package punkt_tab to\n",
      "[nltk_data]     C:\\Users\\redis\\AppData\\Roaming\\nltk_data...\n",
      "[nltk_data]   Package punkt_tab is already up-to-date!\n",
      "[nltk_data] Downloading package wordnet to\n",
      "[nltk_data]     C:\\Users\\redis\\AppData\\Roaming\\nltk_data...\n",
      "[nltk_data]   Package wordnet is already up-to-date!\n"
     ]
    },
    {
     "data": {
      "text/plain": "True"
     },
     "execution_count": 41,
     "metadata": {},
     "output_type": "execute_result"
    }
   ],
   "source": [
    "#import-uri\n",
    "import nltk\n",
    "import matplotlib.pyplot as plt\n",
    "import numpy\n",
    "nltk.download('punkt_tab')\n",
    "nltk.download('wordnet')"
   ],
   "metadata": {
    "collapsed": true,
    "ExecuteTime": {
     "end_time": "2025-03-13T19:32:52.415216800Z",
     "start_time": "2025-03-13T19:32:52.320381900Z"
    }
   },
   "id": "initial_id"
  },
  {
   "cell_type": "code",
   "execution_count": 42,
   "outputs": [
    {
     "name": "stdout",
     "output_type": "stream",
     "text": [
      "Mesaj de informare: \n",
      "Cursul și laboratoarele de Inteligență Artificială vor fi o \n",
      "provocare pentru toți. Suntem convinși că veți realiza proiecte \n",
      "foarte interesante. Vă încurajăm să adresați întrebări atunci \n",
      "când ceva nu e clar, atât în mod live, cât și folosind platforma \n",
      "Teams, canalul ”general”. \n",
      "Dacă ați citit până aici, vă rugăm să lăsați un mesaj pe canalul \n",
      "general cu textul ”Confiiiiiiiiiiiiiiiiiiiiiiiiiiiirm că am citit \n",
      "textul pentru problema 3 din lab2”. \n",
      "--\n",
      "Mesaj de informare generat de ChatGPT:\n",
      "Stimați cursanți,\n",
      "Suntem încântați să vă avem în echipa noastră pentru Cursul și \n",
      "laboratoarele de Inteligență Artificială. Această experiență va \n",
      "fi o adevărată provocare, dar suntem convinși că veți realiza \n",
      "proiecte extrem de interesante.\n",
      "Vă încurajăm să fiți activi și să adresați întrebări atunci când \n",
      "ceva nu este clar. Fie că este vorba de o discuție în timp real \n",
      "sau prin intermediul platformei Teams, canalul ”general”, suntem \n",
      "aici să vă sprijinim.\n",
      "Succes și să înceapă aventura AI!\n",
      "Cu considerație, Echipa de Inteligență Artificială\n"
     ]
    }
   ],
   "source": [
    "#citirea textului din fisier\n",
    "f = open('data/texts.txt','r',encoding='utf-8')\n",
    "raw=f.read()\n",
    "print(raw)"
   ],
   "metadata": {
    "collapsed": false,
    "ExecuteTime": {
     "end_time": "2025-03-13T19:32:52.457153400Z",
     "start_time": "2025-03-13T19:32:52.419425200Z"
    }
   },
   "id": "740d8a5a8eafe63d"
  },
  {
   "cell_type": "markdown",
   "source": [
    "## numarul de propozitii din text;"
   ],
   "metadata": {
    "collapsed": false
   },
   "id": "54c2c50bbb17bd75"
  },
  {
   "cell_type": "code",
   "execution_count": 43,
   "outputs": [
    {
     "name": "stdout",
     "output_type": "stream",
     "text": [
      "10\n"
     ]
    }
   ],
   "source": [
    "# Filter out non-word tokens\n",
    "propozitii = nltk.sent_tokenize(raw)\n",
    "\n",
    "print(len(propozitii))"
   ],
   "metadata": {
    "collapsed": false,
    "ExecuteTime": {
     "end_time": "2025-03-13T19:32:52.643773400Z",
     "start_time": "2025-03-13T19:32:52.444447700Z"
    }
   },
   "id": "dad1710ce9810589"
  },
  {
   "cell_type": "markdown",
   "source": [
    "## numarul de cuvinte din text"
   ],
   "metadata": {
    "collapsed": false
   },
   "id": "a482b7315ae048b8"
  },
  {
   "cell_type": "code",
   "execution_count": 44,
   "outputs": [
    {
     "name": "stdout",
     "output_type": "stream",
     "text": [
      "160\n"
     ]
    }
   ],
   "source": [
    "cuvinte =  nltk.RegexpTokenizer(r'\\w+').tokenize(raw)\n",
    "print(len(cuvinte))"
   ],
   "metadata": {
    "collapsed": false,
    "ExecuteTime": {
     "end_time": "2025-03-13T19:32:52.650702600Z",
     "start_time": "2025-03-13T19:32:52.643365800Z"
    }
   },
   "id": "85b361ced4fead41"
  },
  {
   "cell_type": "markdown",
   "source": [
    "## numarul de cuvinte diferite din text"
   ],
   "metadata": {
    "collapsed": false
   },
   "id": "483964ec20aeed76"
  },
  {
   "cell_type": "code",
   "execution_count": 45,
   "outputs": [
    {
     "name": "stdout",
     "output_type": "stream",
     "text": [
      "97\n"
     ]
    }
   ],
   "source": [
    "cuvinte_diferite = nltk.FreqDist(cuvinte)\n",
    "dict_cuvinte = dict(cuvinte_diferite)\n",
    "print(len(dict_cuvinte.keys()))"
   ],
   "metadata": {
    "collapsed": false,
    "ExecuteTime": {
     "end_time": "2025-03-13T19:32:52.688527500Z",
     "start_time": "2025-03-13T19:32:52.654024300Z"
    }
   },
   "id": "4e9e7c4720654ab8"
  },
  {
   "cell_type": "markdown",
   "source": [
    "## cel mai scurt si cel mai lung cuvant (cuvinte)"
   ],
   "metadata": {
    "collapsed": false
   },
   "id": "33463ea0cb62a3b6"
  },
  {
   "cell_type": "code",
   "execution_count": 46,
   "outputs": [
    {
     "name": "stdout",
     "output_type": "stream",
     "text": [
      "o\n",
      "Confiiiiiiiiiiiiiiiiiiiiiiiiiiiirm\n"
     ]
    }
   ],
   "source": [
    "print(min(cuvinte,key=len))\n",
    "print(max(cuvinte,key=len))"
   ],
   "metadata": {
    "collapsed": false,
    "ExecuteTime": {
     "end_time": "2025-03-13T19:32:52.740125700Z",
     "start_time": "2025-03-13T19:32:52.688527500Z"
    }
   },
   "id": "78849c3f03801df5"
  },
  {
   "cell_type": "markdown",
   "source": [
    "## textul fara diacritice"
   ],
   "metadata": {
    "collapsed": false
   },
   "id": "dcf13cc282b3a264"
  },
  {
   "cell_type": "code",
   "execution_count": 47,
   "outputs": [
    {
     "name": "stdout",
     "output_type": "stream",
     "text": [
      "Mesaj de informare: \n",
      "Cursul si laboratoarele de Inteligenta Artificiala vor fi o \n",
      "provocare pentru toti. Suntem convinsi ca veti realiza proiecte \n",
      "foarte interesante. Va incurajam sa adresati intrebari atunci \n",
      "cand ceva nu e clar, atat in mod live, cat si folosind platforma \n",
      "Teams, canalul ”general”. \n",
      "Daca ati citit pana aici, va rugam sa lasati un mesaj pe canalul \n",
      "general cu textul ”Confiiiiiiiiiiiiiiiiiiiiiiiiiiiirm ca am citit \n",
      "textul pentru problema 3 din lab2”. \n",
      "--\n",
      "Mesaj de informare generat de ChatGPT:\n",
      "Stimati cursanti,\n",
      "Suntem incantati sa va avem in echipa noastra pentru Cursul si \n",
      "laboratoarele de Inteligenta Artificiala. Aceasta experienta va \n",
      "fi o adevarata provocare, dar suntem convinsi ca veti realiza \n",
      "proiecte extrem de interesante.\n",
      "Va incurajam sa fiti activi si sa adresati intrebari atunci cand \n",
      "ceva nu este clar. Fie ca este vorba de o discutie in timp real \n",
      "sau prin intermediul platformei Teams, canalul ”general”, suntem \n",
      "aici sa va sprijinim.\n",
      "Succes si sa inceapa aventura AI!\n",
      "Cu consideratie, Echipa de Inteligenta Artificiala\n"
     ]
    }
   ],
   "source": [
    "translate = {'ă':'a','â':'a','î':'i','ș':'s','ț':'t','Ă':'A','Â':'A','Î':'I','Ș':'S','Ț':'T'}\n",
    "raw_copy = (raw + '.')[:-1] #copie la raw sa nu modific original textul\n",
    "\n",
    "for char in translate:\n",
    "        raw_copy = raw_copy.replace(char,translate[char])\n",
    "\n",
    "print(raw_copy)"
   ],
   "metadata": {
    "collapsed": false,
    "ExecuteTime": {
     "end_time": "2025-03-13T19:32:52.772828400Z",
     "start_time": "2025-03-13T19:32:52.729441500Z"
    }
   },
   "id": "a6b7aea7919447f6"
  },
  {
   "cell_type": "markdown",
   "source": [
    "## sinonimele celui mai lung cuvant din text"
   ],
   "metadata": {
    "collapsed": false
   },
   "id": "bc797c536f19263"
  },
  {
   "cell_type": "code",
   "execution_count": 48,
   "outputs": [
    {
     "data": {
      "text/plain": "[]"
     },
     "execution_count": 48,
     "metadata": {},
     "output_type": "execute_result"
    }
   ],
   "source": [
    "nltk.corpus.wordnet.synsets(max(cuvinte,key=len))"
   ],
   "metadata": {
    "collapsed": false,
    "ExecuteTime": {
     "end_time": "2025-03-13T19:32:52.831496800Z",
     "start_time": "2025-03-13T19:32:52.763072500Z"
    }
   },
   "id": "81224707eb798df3"
  },
  {
   "cell_type": "markdown",
   "source": [
    "# Problema 4 Sa se normalizeze informatiile de la problema 1 si 2 folosind diferite metode de normalizare astfel:"
   ],
   "metadata": {
    "collapsed": false
   },
   "id": "67b86ff0102031f2"
  },
  {
   "cell_type": "markdown",
   "source": [
    "## problema 3 - numarul de aparitii a cuvintelor la nivelul unei propozitii."
   ],
   "metadata": {
    "collapsed": false
   },
   "id": "90828bb4c5ba95ef"
  },
  {
   "cell_type": "code",
   "execution_count": 49,
   "outputs": [
    {
     "data": {
      "text/plain": "<Figure size 1000x500 with 2 Axes>",
      "image/png": "[encoded data removed]"
     },
     "metadata": {},
     "output_type": "display_data"
    }
   ],
   "source": [
    "numere = []\n",
    "for propozitie in propozitii:\n",
    "    cuvinte_propozitie = nltk.RegexpTokenizer(r'\\w+').tokenize(propozitie)\n",
    "    numere.append(len(cuvinte_propozitie))\n",
    "\n",
    "niu = numpy.mean(numere)\n",
    "sigma = numpy.std(numere)\n",
    "\n",
    "numereNormalizate = [ (x-niu)/sigma for x in numere]\n",
    "\n",
    "fig, ax = plt.subplots(1,2,figsize=(10,5))\n",
    "ax[0].hist(numere, bins=len(set(numere)) )\n",
    "ax[0].set_title('Numarul de cuvinte din propozitii')\n",
    "ax[0].set_xlabel('Numarul de cuvinte')\n",
    "ax[0].set_ylabel('Propozitii')\n",
    "\n",
    "ax[1].hist(numereNormalizate, bins=len(set(numereNormalizate)) )\n",
    "\n",
    "plt.show()"
   ],
   "metadata": {
    "collapsed": false,
    "ExecuteTime": {
     "end_time": "2025-03-13T19:32:52.980401200Z",
     "start_time": "2025-03-13T19:32:52.822119700Z"
    }
   },
   "id": "48e112e684321d0c"
  }
 ],
 "metadata": {
  "kernelspec": {
   "display_name": "Python 3",
   "language": "python",
   "name": "python3"
  },
  "language_info": {
   "codemirror_mode": {
    "name": "ipython",
    "version": 2
   },
   "file_extension": ".py",
   "mimetype": "text/x-python",
   "name": "python",
   "nbconvert_exporter": "python",
   "pygments_lexer": "ipython2",
   "version": "2.7.6"
  }
 },
 "nbformat": 4,
 "nbformat_minor": 5
}
